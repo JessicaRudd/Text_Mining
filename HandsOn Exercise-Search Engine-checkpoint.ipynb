{
 "cells": [
  {
   "cell_type": "code",
   "execution_count": 6,
   "metadata": {
    "collapsed": false
   },
   "outputs": [],
   "source": [
    "#importing packages\n",
    "import io, json\n",
    "\n",
    "\n",
    "def save_json(filename, data):\n",
    "    # type: (object, object) -> object\n",
    "    with io.open('{0}.json'.format(filename),\n",
    "                 'w', encoding='utf-8') as f:\n",
    "        f.write(unicode(json.dumps(data, ensure_ascii=False)))\n",
    "\n",
    "\n",
    "def load_json(filename):\n",
    "    with io.open('{0}.json'.format(filename),\n",
    "                 encoding='utf-8') as f:\n",
    "        return json.load(f)\n",
    "\n"
   ]
  },
  {
   "cell_type": "code",
   "execution_count": 7,
   "metadata": {
    "collapsed": false
   },
   "outputs": [
    {
     "name": "stdout",
     "output_type": "stream",
     "text": [
      "Fetched 33 entries from 'All - O'Reilly Media'\n",
      "{'content': u'Male Allies, Learning Maps, Machine Learning Biology, and \"The Attention Merchants\"\\n\\nMale Allies -- sweet bingo card. (via Anna Christison)\\n\\nSo You Want to Learn Physics -- really sweet learning map. At O\\'Reilly, we\\'ve been thinking hard about learning paths for our tech subjects.\\n\\nUntargeted Metabolomics using Deep Learning -- This untargeted (unbiased) analysis of every change in the cell gives us our debugging tool for biology, and deep learning has been the key to getting here reliably.\\n\\n\\nThe Attention Merchants: The Epic Scramble to Get Inside Our Heads (Amazon) -- Tim Wu\\'s new book on the online advertising industry. (via Cory Doctorow)\\n\\nContinue reading Four short links: 17 October 2017.', 'link': u'http://feedproxy.google.com/~r/oreilly/radar/atom/~3/EiG4KTzPqb4/four-short-links-17-october-2017', 'title': u'Four short links: 17 October 2017'}\n"
     ]
    }
   ],
   "source": [
    "import feedparser\n",
    "from bs4 import BeautifulSoup\n",
    "\n",
    "FEED_URL = 'http://feeds.feedburner.com/oreilly/radar/atom'\n",
    "\n",
    "def cleanHtml(html):\n",
    "    soup = BeautifulSoup(html, \"lxml\")\n",
    "    return soup.get_text()\n",
    "\n",
    "fp = feedparser.parse(FEED_URL)\n",
    "\n",
    "print \"Fetched %s entries from '%s'\" % (len(fp.entries[0].title), fp.feed.title)\n",
    "\n",
    "blog_posts = []\n",
    "for e in fp.entries:\n",
    "    blog_posts.append({'title': e.title, 'content'\n",
    "    : cleanHtml(e.content[0].value), 'link': e.links[0].href})\n",
    "print blog_posts[0]\n",
    "\n",
    "save_json('blog', blog_posts)\n"
   ]
  },
  {
   "cell_type": "code",
   "execution_count": 9,
   "metadata": {
    "collapsed": false
   },
   "outputs": [
    {
     "name": "stdout",
     "output_type": "stream",
     "text": [
      "Enter search termstechnology\n"
     ]
    }
   ],
   "source": [
    "# Type words for search#\n",
    "a= raw_input('Enter search terms')\n",
    "\n",
    "blog_data = load_json('blog')\n",
    "\n",
    "blogs=[]\n",
    "for i in blog_data:\n",
    "    blogs.append(i['content'])\n",
    "    \n",
    "\n",
    "    \n",
    "vector= blogs\n",
    "vector.insert(0,a)"
   ]
  },
  {
   "cell_type": "code",
   "execution_count": 10,
   "metadata": {
    "collapsed": false
   },
   "outputs": [
    {
     "name": "stdout",
     "output_type": "stream",
     "text": [
      "[ 0 34 36 53 28 50 56 17 25 55 10  5  3  1 24 23 22 21 20  2 19 18 16  4 15\n",
      " 14 13 26 11  9  8  7  6 12 60 27 29 58 57 54 52 51 49 48 47 46 45 44 43 42\n",
      " 41 40 39 38 37 35 33 32 31 59 30]\n",
      "\n",
      "\n",
      " The top 5 related blog IDs are\n",
      "[34 36 53 28 50]\n"
     ]
    }
   ],
   "source": [
    "from sklearn.metrics.pairwise import linear_kernel\n",
    "from sklearn.feature_extraction.text import TfidfVectorizer\n",
    "\n",
    "#define parameters\n",
    "\n",
    "tfidf = TfidfVectorizer(stop_words='english').fit_transform(vector)\n",
    "\n",
    "\n",
    "cosine_similarities = linear_kernel(tfidf[0:1], tfidf).flatten()\n",
    "print cosine_similarities.argsort()[::-1]\n",
    "\n",
    "related_blogs = cosine_similarities.argsort()[::-1][1:6]\n",
    "print '\\n\\n The top 5 related blog IDs are' \n",
    "print  related_blogs\n"
   ]
  },
  {
   "cell_type": "code",
   "execution_count": 11,
   "metadata": {
    "collapsed": false,
    "scrolled": true
   },
   "outputs": [
    {
     "name": "stdout",
     "output_type": "stream",
     "text": [
      "  (0, 2613)\t1.0\n",
      "  (1, 25)\t0.116086191698\n",
      "  (1, 1787)\t0.069176148067\n",
      "  (1, 9)\t0.105470712199\n",
      "  (1, 1525)\t0.0714541923922\n",
      "  (1, 2370)\t0.069176148067\n",
      "  (1, 2110)\t0.0266067104392\n",
      "  (1, 577)\t0.0266067104392\n",
      "  (1, 789)\t0.105470712199\n",
      "  (1, 610)\t0.105470712199\n",
      "  (1, 1319)\t0.0739495076227\n",
      "  (1, 102)\t0.105470712199\n",
      "  (1, 1801)\t0.0873234301331\n",
      "  (1, 330)\t0.0873234301331\n",
      "  (1, 1744)\t0.0585606685683\n",
      "  (1, 2895)\t0.116086191698\n",
      "  (1, 2658)\t0.0979389096318\n",
      "  (1, 139)\t0.105470712199\n",
      "  (1, 1204)\t0.116086191698\n",
      "  (1, 1337)\t0.0920967896888\n",
      "  (1, 2304)\t0.116086191698\n",
      "  (1, 905)\t0.116086191698\n",
      "  (1, 2164)\t0.116086191698\n",
      "  (1, 1112)\t0.0797916275657\n",
      "  (1, 1446)\t0.0920967896888\n",
      "  :\t:\n",
      "  (60, 533)\t0.0656099949179\n",
      "  (60, 1371)\t0.161063799781\n",
      "  (60, 846)\t0.0867250500146\n",
      "  (60, 483)\t0.0587543999632\n",
      "  (60, 24)\t0.0568812400697\n",
      "  (60, 881)\t0.0757281194504\n",
      "  (60, 669)\t0.0458843095056\n",
      "  (60, 1508)\t0.0867250500146\n",
      "  (60, 1743)\t0.260175150044\n",
      "  (60, 1639)\t0.346900200058\n",
      "  (60, 1891)\t0.0535627214919\n",
      "  (60, 1756)\t0.0757281194504\n",
      "  (60, 1519)\t0.0867250500146\n",
      "  (60, 843)\t0.0805318998903\n",
      "  (60, 1582)\t0.0481524852215\n",
      "  (60, 2008)\t0.0656099949179\n",
      "  (60, 1518)\t0.0506880899454\n",
      "  (60, 768)\t0.0630743901939\n",
      "  (60, 1086)\t0.0535627214919\n",
      "  (60, 2575)\t0.121612428956\n",
      "  (60, 1787)\t0.0568812400697\n",
      "  (60, 1525)\t0.0587543999632\n",
      "  (60, 2370)\t0.0568812400697\n",
      "  (60, 2110)\t0.0218778108676\n",
      "  (60, 577)\t0.0218778108676\n"
     ]
    }
   ],
   "source": [
    "print tfidf"
   ]
  },
  {
   "cell_type": "code",
   "execution_count": 15,
   "metadata": {
    "collapsed": false
   },
   "outputs": [
    {
     "name": "stdout",
     "output_type": "stream",
     "text": [
      "\n",
      "\n",
      "\n",
      "Number 1 relevant blog\n",
      "\n",
      "\n",
      "\n",
      "Keller Rinaudo's company, Zipline, is using on-demand technology and drones to deliver medical supplies to areas with poor infrastructure and transportation. Continue reading On-demand drone delivery for blood and medicine.\n",
      "============================\n",
      "\n",
      "\n",
      "\n",
      "Number 2 relevant blog\n",
      "\n",
      "\n",
      "\n",
      "Honor is using modern technology to solve a real, vexing problem for those whose loved ones need special care.Continue reading Aging with honor: A conversation with Seth Sternberg and Phaedra Ellis-Lamkins.\n",
      "============================\n",
      "\n",
      "\n",
      "\n",
      "Number 3 relevant blog\n",
      "\n",
      "\n",
      "\n",
      "The O’Reilly Data Show Podcast: Shaoshan Liu on perception, knowledge, reasoning, and planning for autonomous cars.Ask a random person for an example of an AI system and chances are he or she will name self-driving vehicles. In this episode of the O’Reilly Data Show, I sat down with Shaoshan Liu, co-founder of PerceptIn and previously the senior architect (autonomous driving) at Baidu USA. We talked about the technology behind self-driving vehicles, their reliance on rule-based decision engines, and deploying large-scale deep learning systems.Continue reading The technology behind self-driving vehicles.\n",
      "============================\n",
      "\n",
      "\n",
      "\n",
      "Number 4 relevant blog\n",
      "\n",
      "\n",
      "\n",
      "Five questions for Laura Mather: Insights on how groupthink and heterogeneous teams impact decision-making.I recently sat down with Laura Mather, Founder and CEO at Unitive, to discuss groupthink and how it hampers a security team’s ability to move quickly and better solve problems. Here are some highlights from our talk.\n",
      "1. What is “Groupthink?\"\n",
      "Groupthink is a great example of how the best of intentions can really go awry. Essentially it’s when a group is too focused on getting along to criticize each other. I’m sure we’ve all seen it happen. We’re in a group of people and someone who is either very loud or very well respected makes a comment and everyone starts nodding. Sometimes this even happens when there is disagreement with the comment.\n",
      "Similarly, when we are trying to promote harmonious and non-confrontational work environments we often create homogenous teams full of people who have the same experiences, assumptions, and beliefs. The group can’t see its own biases and blind spots, and this leads to some terrible decision making. While it might be easier to just agree with your coworkers—and while it might make your organization feel aligned—in reality, without the push and pull of debate and argument, you won’t make the best choices.\n",
      "2. Can you describe some characteristics of heterogeneous teams?\n",
      "Heterogeneous teams bring together people from all different backgrounds, experiences, and approaches to problem solving. My team at Silver Tail brought together blue-collar workers and engineers with PhDs. We had linguists, computer scientists, and people with backgrounds in business. Heterogeneous teams bring together different perspectives and expertise, they question each other’s assumptions, and they come up with new and different ways to look at problems. Then they leverage all of their combined backgrounds and experiences—no matter how unrelated they seem—to create unique, pragmatic solutions.\n",
      "3. What steps can security teams take to be more collaborative and productive?\n",
      "The biggest step security teams can take to be more collaborative and productive is to create a culture that values different experiences and that encourages debate. This means making sure\n",
      "that teams are diverse and that each member feels empowered to speak up, to disagree, and to offer solutions. By embracing each way of seeing the world everyone will benefit, and the solutions that will be achieved will be more effective. And, who knows, we all might learn something.\n",
      "4. Can you provide a few resources for people to read more about the research behind these concepts?\n",
      "Iris Bohnet’s recent book What Works is a great explanation of how creating environments that value gender parity can also help improve team decision making.\n",
      "5. You're speaking at the O’Reilly Security Conference in New York this November. What presentations are you looking forward to attending while there?\n",
      "“A Social Scientist’s Perspective on how the Intersection of Humans and Technology Will Shape the Future” workshop looks amazing since it is going to talk about how humans intersecting with technology is going to change the landscape. I’ve always been fascinated with the psychology of the aggressors and even more so in how technology plays a role in overall psychology, and I would guess this session will cover both.\n",
      "Also, “Speak Security and Enter: Making Security Make Sense for Non-Technical Users” fascinates me because by having to parse a particular attack or a particular part of security, we break it into its simplest pieces. I’ve had cases where doing that has forced me to look deep at an attack and has helped me understand either more of a motivation or even a solution I hadn’t seen when I was looking at the “bit level.” Thinking about attacks at this very simple level can help people change their perspectives, which is always a good thing.\n",
      "Continue reading Improving security team collaboration and productivity.\n",
      "============================\n",
      "\n",
      "\n",
      "\n",
      "Number 5 relevant blog\n",
      "\n",
      "\n",
      "\n",
      "Understanding AV technologies and how to integrate them.We are at the beginning of the future of autonomous driving. What is the landscape and how will it unfold? Let's consult history to help us predict.\n",
      "Information technology took off in the 1960s, when Fairchild Semiconductors and Intel laid the foundation by producing silicon microprocessors (hence Silicon Valley). Microprocessor technologies greatly improved industrial productivity; the general public had limited access to it. In the 1980s, with the Xerox Alto, Apple Lisa, and later Microsoft Windows, using the Graphical User Interface (GUI), the second layer was laid, and the vision of having a \"personal\" computer became a possibility.Continue reading Creating autonomous vehicle systems.\n",
      "============================\n"
     ]
    }
   ],
   "source": [
    "n = 0\n",
    "for i in related_blogs:\n",
    "    n = n+1\n",
    "    print '\\n\\n\\nNumber',\n",
    "    print n ,\n",
    "    print 'relevant blog\\n\\n\\n'\n",
    "    \n",
    "    print vector[i]\n",
    "   \n",
    "    print '============================'"
   ]
  },
  {
   "cell_type": "code",
   "execution_count": null,
   "metadata": {
    "collapsed": true
   },
   "outputs": [],
   "source": []
  }
 ],
 "metadata": {
  "kernelspec": {
   "display_name": "Python [Root]",
   "language": "python",
   "name": "Python [Root]"
  },
  "language_info": {
   "codemirror_mode": {
    "name": "ipython",
    "version": 2
   },
   "file_extension": ".py",
   "mimetype": "text/x-python",
   "name": "python",
   "nbconvert_exporter": "python",
   "pygments_lexer": "ipython2",
   "version": "2.7.12"
  }
 },
 "nbformat": 4,
 "nbformat_minor": 0
}
